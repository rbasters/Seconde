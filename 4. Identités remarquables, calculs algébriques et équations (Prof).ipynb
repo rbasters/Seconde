{
 "cells": [
  {
   "cell_type": "markdown",
   "metadata": {},
   "source": [
    "# Identités remarquables, calculs algébriques et équations"
   ]
  },
  {
   "cell_type": "markdown",
   "metadata": {},
   "source": [
    "### Exercice 90"
   ]
  },
  {
   "cell_type": "markdown",
   "metadata": {},
   "source": [
    "On considère le programme en PYTHON suivant:"
   ]
  },
  {
   "cell_type": "code",
   "execution_count": 1,
   "metadata": {},
   "outputs": [
    {
     "name": "stdout",
     "output_type": "stream",
     "text": [
      "Saisir une valeur de x:3\n",
      "1.7\n"
     ]
    }
   ],
   "source": [
    "x=float(input(\"Saisir une valeur de x:\"))\n",
    "a=5*x+2\n",
    "b=2*x+4\n",
    "c=a/b\n",
    "print(c)"
   ]
  },
  {
   "cell_type": "markdown",
   "metadata": {},
   "source": [
    "#### 1. Qu'affiche ce programme si on entre 3 comme valeur de $x$ ?"
   ]
  },
  {
   "cell_type": "markdown",
   "metadata": {},
   "source": [
    "Le programme affiche 1.7"
   ]
  },
  {
   "cell_type": "markdown",
   "metadata": {},
   "source": [
    "#### 2. Ce programme fonctionne-t-il pour toute valeur de $x$ ? Justifier."
   ]
  },
  {
   "cell_type": "markdown",
   "metadata": {},
   "source": [
    "Non, ce programme ne fonctionne pas pour toute valeur de $x$, puisque la division par 0n'est pas définie. La valeur -2 est donc à exclure."
   ]
  },
  {
   "cell_type": "markdown",
   "metadata": {},
   "source": [
    "#### 3. Compléter ou modifier ce programme pour qu'il affiche un message \"valeur interdite\" pour $x$, si la valeur saisie ne permet pas de faire le calcul ou qu'il calcule et affiche le résultat sinon."
   ]
  },
  {
   "cell_type": "code",
   "execution_count": 6,
   "metadata": {},
   "outputs": [
    {
     "name": "stdout",
     "output_type": "stream",
     "text": [
      "Saisir une valeur de x:-0.4\n",
      "0.0\n"
     ]
    }
   ],
   "source": [
    "x=float(input(\"Saisir une valeur de x:\"))\n",
    "if x != -2:\n",
    "    a=5*x+2\n",
    "    b=2*x+4\n",
    "    c=a/b\n",
    "    print(c)\n",
    "else:\n",
    "    print(\"Valeur interdite\")"
   ]
  },
  {
   "cell_type": "markdown",
   "metadata": {},
   "source": [
    "#### 4. Quelle valeur faut-il saisir pour $x$ afin d'obtenir 0 en résultat final ?"
   ]
  },
  {
   "cell_type": "markdown",
   "metadata": {},
   "source": [
    "Il faut saisir -0,4 pour obtenir 0 en résultat final (il suffit de résoudre l'équation $5x+2 = 0$)"
   ]
  },
  {
   "cell_type": "markdown",
   "metadata": {},
   "source": [
    "### Exercice 95 "
   ]
  },
  {
   "cell_type": "markdown",
   "metadata": {},
   "source": [
    "Ecrire un programme en PYTHON qui demande à un utilisateur une valeur de $k$ puis qui affiche, suivant les valeurs de $k$, la solution éventuelle de l'équation $\\sqrt(x)=k$"
   ]
  },
  {
   "cell_type": "code",
   "execution_count": 12,
   "metadata": {},
   "outputs": [
    {
     "name": "stdout",
     "output_type": "stream",
     "text": [
      "Saisir une valeur de k:0\n",
      "Il y a une unique solution : x =  0.0\n"
     ]
    }
   ],
   "source": [
    "import math\n",
    "k=float(input(\"Saisir une valeur de k:\"))\n",
    "if k < 0:\n",
    "    print(\"il n'y aucune solution pour l'équation\")\n",
    "else:\n",
    "    print(\"Il y a une unique solution : x = \",math.sqrt(k))\n",
    "    "
   ]
  }
 ],
 "metadata": {
  "kernelspec": {
   "display_name": "Python 3",
   "language": "python",
   "name": "python3"
  },
  "language_info": {
   "codemirror_mode": {
    "name": "ipython",
    "version": 3
   },
   "file_extension": ".py",
   "mimetype": "text/x-python",
   "name": "python",
   "nbconvert_exporter": "python",
   "pygments_lexer": "ipython3",
   "version": "3.7.6"
  }
 },
 "nbformat": 4,
 "nbformat_minor": 4
}
