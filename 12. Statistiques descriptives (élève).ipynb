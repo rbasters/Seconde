{
 "cells": [
  {
   "cell_type": "markdown",
   "metadata": {},
   "source": [
    "# Statistiques descriptives"
   ]
  },
  {
   "cell_type": "markdown",
   "metadata": {},
   "source": [
    "### Exercice 73 - Quel quartile ?"
   ]
  },
  {
   "cell_type": "markdown",
   "metadata": {},
   "source": [
    "#### On considère le programme suivant."
   ]
  },
  {
   "cell_type": "code",
   "execution_count": 1,
   "metadata": {},
   "outputs": [
    {
     "name": "stdout",
     "output_type": "stream",
     "text": [
      "Saisir effectif : 8\n",
      "Votre série doit être triée!\n",
      "Saisir 1er valeur : 1\n",
      "Saisir valeur : 2\n",
      "Saisir valeur : 3\n",
      "3.0\n"
     ]
    }
   ],
   "source": [
    "n = input(\"Saisir effectif : \")\n",
    "n = int(n)\n",
    "print(\"Votre série doit être triée!\")\n",
    "x = input(\"Saisir 1er valeur : \")\n",
    "x = float(x)\n",
    "i = 1\n",
    "while i<=n/4:\n",
    "    x = input(\"Saisir valeur : \")\n",
    "    x = float(x)\n",
    "    i = i + 1\n",
    "print(x)"
   ]
  },
  {
   "cell_type": "markdown",
   "metadata": {},
   "source": [
    "#### 1. Que fait ce programme ?"
   ]
  },
  {
   "cell_type": "markdown",
   "metadata": {},
   "source": [
    "#### 2. Le modifier pou qu'il affiche le 3e quartile d'une série ordonnée rentrée par l'utilisateur."
   ]
  },
  {
   "cell_type": "markdown",
   "metadata": {},
   "source": [
    "#### 3. Le modifier pour qu'il affiche la médiane d'une série ordonnée rentrée par l'utilisateur."
   ]
  },
  {
   "cell_type": "code",
   "execution_count": null,
   "metadata": {},
   "outputs": [],
   "source": []
  }
 ],
 "metadata": {
  "kernelspec": {
   "display_name": "Python 3",
   "language": "python",
   "name": "python3"
  },
  "language_info": {
   "codemirror_mode": {
    "name": "ipython",
    "version": 3
   },
   "file_extension": ".py",
   "mimetype": "text/x-python",
   "name": "python",
   "nbconvert_exporter": "python",
   "pygments_lexer": "ipython3",
   "version": "3.7.6"
  }
 },
 "nbformat": 4,
 "nbformat_minor": 4
}
