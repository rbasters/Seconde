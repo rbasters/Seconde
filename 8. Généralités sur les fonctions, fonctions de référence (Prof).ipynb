{
 "cells": [
  {
   "cell_type": "markdown",
   "metadata": {},
   "source": [
    "# Généralités sur les fonctions, fonctions de référence"
   ]
  },
  {
   "cell_type": "markdown",
   "metadata": {},
   "source": [
    "### Exercice 63"
   ]
  },
  {
   "cell_type": "markdown",
   "metadata": {},
   "source": [
    "#### On considère le programme ci-dessous."
   ]
  },
  {
   "cell_type": "code",
   "execution_count": 1,
   "metadata": {},
   "outputs": [
    {
     "name": "stdout",
     "output_type": "stream",
     "text": [
      "saisir une valeur de x:2\n",
      "L'image de 2.0 par g est 20.0\n"
     ]
    }
   ],
   "source": [
    "x=float(input(\"saisir une valeur de x:\"))\n",
    "if x>=-1 and x<=5:\n",
    "    y=3*x*x-2*x+12\n",
    "    print(\"L'image de\",x,\"par g est\",y)\n",
    "else:\n",
    "    print(\"La fonction n'est pas définie en\",x)"
   ]
  },
  {
   "cell_type": "markdown",
   "metadata": {},
   "source": [
    "#### Ce programme permet d'afficher l'image d'un nombre par une fonction $g$. Donner $g(x)$ et l'ensemble de définition de $g$."
   ]
  },
  {
   "cell_type": "markdown",
   "metadata": {},
   "source": [
    "La fonction $g$ est définie sur $[-1 ; 5]$ par $g(x)=3x^2-2x+12$."
   ]
  },
  {
   "cell_type": "markdown",
   "metadata": {},
   "source": [
    "### Exercice 70"
   ]
  },
  {
   "cell_type": "markdown",
   "metadata": {},
   "source": [
    "#### On considère la fonction $f$ définie sur ${\\rm I\\!R}$ par $f(x)=-2x+5$"
   ]
  },
  {
   "cell_type": "markdown",
   "metadata": {},
   "source": [
    "#### 1. Déterminer le ou les antécédents de -2 par $f$."
   ]
  },
  {
   "cell_type": "markdown",
   "metadata": {},
   "source": [
    "L'antécedent de -2 par $f$ se trouve en résolvant l'équations suivante:\n",
    "* $-2x + 5 = -2$\n",
    "* $-2x = -7$\n",
    "* $x = \\dfrac{7}{2}$"
   ]
  },
  {
   "cell_type": "markdown",
   "metadata": {},
   "source": [
    "###### 2. Ecrire un algorithme ou un programme qui:\n",
    " - demande une valeur $b$ à l'utilisateur;\n",
    " - calcule puis affiche le ou les antécédents de $b$ par la fonction $f$."
   ]
  },
  {
   "cell_type": "code",
   "execution_count": 3,
   "metadata": {},
   "outputs": [
    {
     "name": "stdout",
     "output_type": "stream",
     "text": [
      "Entrez une valeur:-2\n",
      "l'antécédent de -2.0 par f est: 3.5\n"
     ]
    }
   ],
   "source": [
    "b = float(input(\"Entrez une valeur:\"))\n",
    "a = (b-5)/-2\n",
    "print(\"l'antécédent de\",b,\"par f est:\",a)"
   ]
  }
 ],
 "metadata": {
  "kernelspec": {
   "display_name": "Python 3",
   "language": "python",
   "name": "python3"
  },
  "language_info": {
   "codemirror_mode": {
    "name": "ipython",
    "version": 3
   },
   "file_extension": ".py",
   "mimetype": "text/x-python",
   "name": "python",
   "nbconvert_exporter": "python",
   "pygments_lexer": "ipython3",
   "version": "3.7.6"
  }
 },
 "nbformat": 4,
 "nbformat_minor": 4
}
