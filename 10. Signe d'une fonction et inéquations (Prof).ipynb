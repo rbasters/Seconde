{
 "cells": [
  {
   "cell_type": "markdown",
   "metadata": {},
   "source": [
    "# Signe d'une fonction et inéquations"
   ]
  },
  {
   "cell_type": "markdown",
   "metadata": {},
   "source": [
    "### Signe d'une fonction affine"
   ]
  },
  {
   "cell_type": "markdown",
   "metadata": {},
   "source": [
    "#### On considère le programme suivant."
   ]
  },
  {
   "cell_type": "code",
   "execution_count": 1,
   "metadata": {},
   "outputs": [
    {
     "name": "stdout",
     "output_type": "stream",
     "text": [
      "Saisir la valeur de a:2\n",
      "Saisir la valeur de b:-6\n",
      "f(x)=ax+b est négatif jusqu'à 3.0 et positif après\n"
     ]
    }
   ],
   "source": [
    "a = float(input(\"Saisir la valeur de a:\"))\n",
    "b = float(input(\"Saisir la valeur de b:\"))\n",
    "c = -b / a\n",
    "if a > 0:\n",
    "    print(\"f(x)=ax+b est négatif jusqu'à\",c,\"et positif après\")\n",
    "else:\n",
    "    print(\"f(x)=ax+b est ..... jusqu'à\",c,\"et ..... après\")"
   ]
  },
  {
   "cell_type": "markdown",
   "metadata": {},
   "source": [
    "#### 1.a) Que renvoie cet algorithme si on donne a = 2 et b = - 6?"
   ]
  },
  {
   "cell_type": "markdown",
   "metadata": {},
   "source": [
    "f(x)=ax+b est négatif jusqu'à 3.0 et positif après"
   ]
  },
  {
   "cell_type": "markdown",
   "metadata": {},
   "source": [
    "#### ...b) A quoi cet algorithme peut-il servir?"
   ]
  },
  {
   "cell_type": "markdown",
   "metadata": {},
   "source": [
    "Cet algorithme peut servir a donner le signe d'une fonction affine."
   ]
  },
  {
   "cell_type": "markdown",
   "metadata": {},
   "source": [
    "#### ...c) Compléter les pointillés de cet algorithme"
   ]
  },
  {
   "cell_type": "code",
   "execution_count": 2,
   "metadata": {},
   "outputs": [
    {
     "name": "stdout",
     "output_type": "stream",
     "text": [
      "Saisir la valeur de a:-2\n",
      "Saisir la valeur de b:0\n",
      "f(x)=ax+b est positif jusqu'à 0.0 et négatif après\n"
     ]
    }
   ],
   "source": [
    "a = float(input(\"Saisir la valeur de a:\"))\n",
    "b = float(input(\"Saisir la valeur de b:\"))\n",
    "c = -b / a\n",
    "if a > 0:\n",
    "    print(\"f(x)=ax+b est négatif jusqu'à\",c,\"et positif après\")\n",
    "else:\n",
    "    print(\"f(x)=ax+b est positif jusqu'à\",c,\"et négatif après\")"
   ]
  },
  {
   "cell_type": "markdown",
   "metadata": {},
   "source": [
    "#### 2.a) Que renvoie l'algorithme pour la fonction $f(x)=-2$ ?"
   ]
  },
  {
   "cell_type": "markdown",
   "metadata": {},
   "source": [
    "f(x)=ax+b est positif jusqu'à 0.0 et négatif après"
   ]
  },
  {
   "cell_type": "markdown",
   "metadata": {},
   "source": [
    "#### ...b) Modifier l'algorithme pour qu'il prenne en compre le cas des fonctions constantes."
   ]
  },
  {
   "cell_type": "code",
   "execution_count": 7,
   "metadata": {},
   "outputs": [
    {
     "name": "stdout",
     "output_type": "stream",
     "text": [
      "Saisir la valeur de a:2\n",
      "Saisir la valeur de b:4\n",
      "f(x)=ax+b est négatif jusqu'à -2.0 et positif après\n"
     ]
    }
   ],
   "source": [
    "a = float(input(\"Saisir la valeur de a:\"))\n",
    "b = float(input(\"Saisir la valeur de b:\"))\n",
    "if a != 0:\n",
    "    c = -b / a\n",
    "    if a > 0:\n",
    "        print(\"f(x)=ax+b est négatif jusqu'à\",c,\"et positif après\")\n",
    "    else:\n",
    "        print(\"f(x)=ax+b est positif jusqu'à\",c,\"et négatif après\")\n",
    "else:\n",
    "    if b > 0:\n",
    "        print(\"f(x)=ax+b est strictement positif\")\n",
    "    else:\n",
    "        print(\"f(x)=ax+b est strictement négatif\")"
   ]
  },
  {
   "cell_type": "markdown",
   "metadata": {},
   "source": [
    "Dans l'exemple de code ci dessus j'ai déplacé l'instruction c = -b / a dans le test a!=0 pour éviter la division par 0."
   ]
  },
  {
   "cell_type": "code",
   "execution_count": null,
   "metadata": {},
   "outputs": [],
   "source": []
  }
 ],
 "metadata": {
  "kernelspec": {
   "display_name": "Python 3",
   "language": "python",
   "name": "python3"
  },
  "language_info": {
   "codemirror_mode": {
    "name": "ipython",
    "version": 3
   },
   "file_extension": ".py",
   "mimetype": "text/x-python",
   "name": "python",
   "nbconvert_exporter": "python",
   "pygments_lexer": "ipython3",
   "version": "3.7.6"
  }
 },
 "nbformat": 4,
 "nbformat_minor": 4
}
