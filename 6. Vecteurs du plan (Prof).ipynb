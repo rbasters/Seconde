{
 "cells": [
  {
   "cell_type": "markdown",
   "metadata": {},
   "source": [
    "# Vecteurs du plan"
   ]
  },
  {
   "cell_type": "markdown",
   "metadata": {},
   "source": [
    "### Exercice 92"
   ]
  },
  {
   "cell_type": "markdown",
   "metadata": {},
   "source": [
    "#### 1. Proposer un algorithme vérifiant si les droites (AB) et (CD) sont parallèles à partir des cordonnées des points A, B, C et D entrées par l'utilisateur"
   ]
  },
  {
   "cell_type": "code",
   "execution_count": null,
   "metadata": {},
   "outputs": [],
   "source": [
    "Entrez les coordonnées du point A\n",
    "Entrez les coordonnées du point B\n",
    "Entrez les coordonnées du point C\n",
    "Entrez les coordonnées du point D\n",
    "Calculer les coordonnées du vecteur AB\n",
    "Calculer les coordonnées du vecteur CD\n",
    "Vérifier la colinéarité des vecteurs AB et CD"
   ]
  },
  {
   "cell_type": "markdown",
   "metadata": {},
   "source": [
    "#### 2. Traduisez l'algorithme en code PYTHON"
   ]
  },
  {
   "cell_type": "code",
   "execution_count": 5,
   "metadata": {},
   "outputs": [
    {
     "name": "stdout",
     "output_type": "stream",
     "text": [
      "xa=?5\n",
      "ya=?4\n",
      "xb=?6\n",
      "yb=?1\n",
      "xc=?-2\n",
      "yc=?4\n",
      "xd=?5\n",
      "yd=?9\n",
      "les droites (AB) et (CD) ne sont pas parallèles\n"
     ]
    }
   ],
   "source": [
    "xa=float(input(\"xa=?\"))\n",
    "ya=float(input(\"ya=?\"))\n",
    "xb=float(input(\"xb=?\"))\n",
    "yb=float(input(\"yb=?\"))\n",
    "xc=float(input(\"xc=?\"))\n",
    "yc=float(input(\"yc=?\"))\n",
    "xd=float(input(\"xd=?\"))\n",
    "yd=float(input(\"yd=?\"))\n",
    "xAB = xb-xa\n",
    "yAB = yb-ya\n",
    "xCD = xd-xc\n",
    "yCD = yd-yc\n",
    "if xAB*yCD-xCD*yAB == 0:\n",
    "    print(\"les droites (AB) et (CD) sont parallèles\")\n",
    "else:\n",
    "    print(\"les droites (AB) et (CD) ne sont pas parallèles\")"
   ]
  },
  {
   "cell_type": "markdown",
   "metadata": {},
   "source": [
    "###### Exercice 93"
   ]
  },
  {
   "cell_type": "markdown",
   "metadata": {},
   "source": [
    "#### 1. Proposer un algorithme qui vérifie si les points A, B et C sont alignés à partir de leurs coordonnées entrées par l'utilisateur."
   ]
  },
  {
   "cell_type": "code",
   "execution_count": null,
   "metadata": {},
   "outputs": [],
   "source": [
    "Entrez les coordonnées du point A\n",
    "Entrez les coordonnées du point B\n",
    "Entrez les coordonnées du point C\n",
    "Calculer les coordonnées du vecteur AB\n",
    "Calculer les coordonnées du vecteur AC\n",
    "Vérifier la colinéarité des vecteurs AB et AC"
   ]
  },
  {
   "cell_type": "markdown",
   "metadata": {},
   "source": [
    "#### 2. Traduisez l'algorithme en code PYTHON"
   ]
  },
  {
   "cell_type": "code",
   "execution_count": 7,
   "metadata": {},
   "outputs": [
    {
     "name": "stdout",
     "output_type": "stream",
     "text": [
      "xa=?1\n",
      "ya=?2\n",
      "xb=?2\n",
      "yb=?4\n",
      "xc=?3\n",
      "yc=?6\n",
      "les points A, B et C sont alignés\n"
     ]
    }
   ],
   "source": [
    "xa=float(input(\"xa=?\"))\n",
    "ya=float(input(\"ya=?\"))\n",
    "xb=float(input(\"xb=?\"))\n",
    "yb=float(input(\"yb=?\"))\n",
    "xc=float(input(\"xc=?\"))\n",
    "yc=float(input(\"yc=?\"))\n",
    "xAB = xb-xa\n",
    "yAB = yb-ya\n",
    "xAC = xc-xa\n",
    "yAC = yc-ya\n",
    "if xAB*yAC-xAC*yAB == 0:\n",
    "    print(\"les points A, B et C sont alignés\")\n",
    "else:\n",
    "    print(\"les points A, B et C ne sont pas alignés\")"
   ]
  },
  {
   "cell_type": "code",
   "execution_count": null,
   "metadata": {},
   "outputs": [],
   "source": []
  }
 ],
 "metadata": {
  "kernelspec": {
   "display_name": "Python 3",
   "language": "python",
   "name": "python3"
  },
  "language_info": {
   "codemirror_mode": {
    "name": "ipython",
    "version": 3
   },
   "file_extension": ".py",
   "mimetype": "text/x-python",
   "name": "python",
   "nbconvert_exporter": "python",
   "pygments_lexer": "ipython3",
   "version": "3.7.6"
  }
 },
 "nbformat": 4,
 "nbformat_minor": 4
}
