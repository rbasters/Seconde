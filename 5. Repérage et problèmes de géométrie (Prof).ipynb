{
 "cells": [
  {
   "cell_type": "markdown",
   "metadata": {},
   "source": [
    "# Repérage et problèmes de géométrie"
   ]
  },
  {
   "cell_type": "markdown",
   "metadata": {},
   "source": [
    "### Exercice 69"
   ]
  },
  {
   "cell_type": "markdown",
   "metadata": {},
   "source": [
    "#### Que fait le programme écrit en PYTHON suivant ?"
   ]
  },
  {
   "cell_type": "code",
   "execution_count": 2,
   "metadata": {},
   "outputs": [
    {
     "name": "stdout",
     "output_type": "stream",
     "text": [
      "xa=1\n",
      "xb=2\n",
      "ya=3\n",
      "yb=4\n",
      "1.5 , 3.5\n"
     ]
    }
   ],
   "source": [
    "xa=float(input(\"xa=\"))\n",
    "xb=float(input(\"xb=\"))\n",
    "ya=float(input(\"ya=\"))\n",
    "yb=float(input(\"yb=\"))\n",
    "xm=(xa+xb)/2\n",
    "ym=(ya+yb)/2\n",
    "print(xm,\",\",ym)"
   ]
  },
  {
   "cell_type": "markdown",
   "metadata": {},
   "source": [
    "Ce programme calcule les coordonnées du point M, milieu du segment [AB]"
   ]
  },
  {
   "cell_type": "markdown",
   "metadata": {},
   "source": [
    "### Exercice 70"
   ]
  },
  {
   "cell_type": "markdown",
   "metadata": {},
   "source": [
    "#### 1. Que donne le programme écrit en python suivant ? Justifier."
   ]
  },
  {
   "cell_type": "code",
   "execution_count": 3,
   "metadata": {},
   "outputs": [],
   "source": [
    "import math\n",
    "def D(xa, ya, xb, yb):\n",
    "    d = math.sqrt((xb-xa)**2+(yb-ya)**2)\n",
    "    return d"
   ]
  },
  {
   "cell_type": "markdown",
   "metadata": {},
   "source": [
    "Ce programme calcule la distance entre les points A et B. "
   ]
  },
  {
   "cell_type": "markdown",
   "metadata": {},
   "source": [
    "#### 2. Ajouter une ligne de code qui, en faisaint appel a la fonction D, donne le résultat attendu pour les point A et B de coordonnées respectives (2 ; 3) et (5 ; 7)."
   ]
  },
  {
   "cell_type": "code",
   "execution_count": 5,
   "metadata": {},
   "outputs": [
    {
     "name": "stdout",
     "output_type": "stream",
     "text": [
      "La distance entre les points A et B est : 5.0\n"
     ]
    }
   ],
   "source": [
    "import math\n",
    "def D(xa, ya, xb, yb):\n",
    "    d = math.sqrt((xb-xa)**2+(yb-ya)**2)\n",
    "    return d\n",
    "\n",
    "print(\"La distance entre les points A et B est :\",D(2,3,5,7))"
   ]
  },
  {
   "cell_type": "code",
   "execution_count": null,
   "metadata": {},
   "outputs": [],
   "source": []
  }
 ],
 "metadata": {
  "kernelspec": {
   "display_name": "Python 3",
   "language": "python",
   "name": "python3"
  },
  "language_info": {
   "codemirror_mode": {
    "name": "ipython",
    "version": 3
   },
   "file_extension": ".py",
   "mimetype": "text/x-python",
   "name": "python",
   "nbconvert_exporter": "python",
   "pygments_lexer": "ipython3",
   "version": "3.7.6"
  }
 },
 "nbformat": 4,
 "nbformat_minor": 4
}
