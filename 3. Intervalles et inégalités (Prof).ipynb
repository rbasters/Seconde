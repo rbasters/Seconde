{
 "cells": [
  {
   "cell_type": "markdown",
   "metadata": {},
   "source": [
    "# Intervalles et inégalités"
   ]
  },
  {
   "cell_type": "markdown",
   "metadata": {},
   "source": [
    "### Exercice 76"
   ]
  },
  {
   "cell_type": "markdown",
   "metadata": {},
   "source": [
    "On considère le programme suivant:"
   ]
  },
  {
   "cell_type": "code",
   "execution_count": null,
   "metadata": {},
   "outputs": [],
   "source": [
    "x = float(input(\"saisir une valeur de x:\"))\n",
    "if x<=1 or x>=3:\n",
    "    print(\"gagné !\")\n",
    "else :\n",
    "    print(\"perdu...\")"
   ]
  },
  {
   "cell_type": "markdown",
   "metadata": {},
   "source": [
    "#### 1. Donner l'ensemble des valeurs de $x$ pour lesquelles le programme affiche \"gagné\"."
   ]
  },
  {
   "cell_type": "markdown",
   "metadata": {},
   "source": [
    "$x \\in ]-\\infty; 1] \\cup [3,+\\infty[$"
   ]
  },
  {
   "cell_type": "markdown",
   "metadata": {},
   "source": [
    "#### 2. Modifier le programme ci-dessous pour qu'il affiche \"Gagné !\" si le nombre appartient à $]-\\infty ; 4] \\cup ]5 : + \\infty[$ et \"Perdu...\" sinon. "
   ]
  },
  {
   "cell_type": "code",
   "execution_count": null,
   "metadata": {},
   "outputs": [],
   "source": [
    "x = float(input(\"saisir une valeur de x:\"))\n",
    "if x<=4 or x>=5:\n",
    "    print(\"gagné !\")\n",
    "else :\n",
    "    print(\"perdu...\")"
   ]
  },
  {
   "cell_type": "markdown",
   "metadata": {},
   "source": [
    "#### 3. Modifier le programme ci-dessous pour qu'il affiche \"Gagné !\" si le nombre appartient à $[0;4[$ et \"Perdu...\" sinon. "
   ]
  },
  {
   "cell_type": "code",
   "execution_count": null,
   "metadata": {},
   "outputs": [],
   "source": [
    "x = float(input(\"saisir une valeur de x:\"))\n",
    "if x>=0 and x<4:\n",
    "    print(\"gagné !\")\n",
    "else :\n",
    "    print(\"perdu...\")"
   ]
  },
  {
   "cell_type": "markdown",
   "metadata": {},
   "source": [
    "### Exercice 115 Distances et valeur absolue "
   ]
  },
  {
   "cell_type": "markdown",
   "metadata": {},
   "source": [
    "On considère l'expression  $A = |x - 2,5|$."
   ]
  },
  {
   "cell_type": "markdown",
   "metadata": {},
   "source": [
    "#### 1. Que vaut A si on remplace $x$:\n",
    "- par 5 ?\n",
    "- par -7 ?"
   ]
  },
  {
   "cell_type": "markdown",
   "metadata": {},
   "source": [
    "#### 2. A-t-on $|x-2,5| = x + 2,5$ pour tout réel $x$? Justifier."
   ]
  },
  {
   "cell_type": "markdown",
   "metadata": {},
   "source": [
    "Non, si $x < 2,5$ alors on devrait calculer $2,5 - x$. (Voir cours page 74)"
   ]
  },
  {
   "cell_type": "markdown",
   "metadata": {},
   "source": [
    "#### 3. On donne l'algorithme suivant. Le compléter pour qu'il calcule et affiche la distance entre $x$ et 2,5. "
   ]
  },
  {
   "cell_type": "code",
   "execution_count": null,
   "metadata": {},
   "outputs": [],
   "source": [
    "x=float(input(\"Saisir x:\"))\n",
    "if x >= 2.5:\n",
    "    distance = x - 2.5\n",
    "else:\n",
    "    distance = 2.5 - x\n",
    "print(distance)"
   ]
  },
  {
   "cell_type": "code",
   "execution_count": null,
   "metadata": {},
   "outputs": [],
   "source": []
  }
 ],
 "metadata": {
  "kernelspec": {
   "display_name": "Python 3",
   "language": "python",
   "name": "python3"
  },
  "language_info": {
   "codemirror_mode": {
    "name": "ipython",
    "version": 3
   },
   "file_extension": ".py",
   "mimetype": "text/x-python",
   "name": "python",
   "nbconvert_exporter": "python",
   "pygments_lexer": "ipython3",
   "version": "3.7.6"
  }
 },
 "nbformat": 4,
 "nbformat_minor": 4
}
